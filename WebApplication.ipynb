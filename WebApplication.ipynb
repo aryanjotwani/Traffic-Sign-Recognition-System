{
 "cells": [
  {
   "cell_type": "code",
   "execution_count": 1,
   "id": "af39f60c",
   "metadata": {
    "scrolled": true
   },
   "outputs": [
    {
     "name": "stdout",
     "output_type": "stream",
     "text": [
      " * Serving Flask app '__main__'\n",
      " * Debug mode: off\n"
     ]
    },
    {
     "name": "stderr",
     "output_type": "stream",
     "text": [
      "WARNING: This is a development server. Do not use it in a production deployment. Use a production WSGI server instead.\n",
      " * Running on http://127.0.0.1:5000\n",
      "Press CTRL+C to quit\n",
      "127.0.0.1 - - [10/Jul/2025 16:17:43] \"GET / HTTP/1.1\" 200 -\n",
      "127.0.0.1 - - [10/Jul/2025 16:17:45] \"GET /favicon.ico HTTP/1.1\" 404 -\n",
      "WARNING:absl:Compiled the loaded model, but the compiled metrics have yet to be built. `model.compile_metrics` will be empty until you train or evaluate the model.\n"
     ]
    },
    {
     "name": "stdout",
     "output_type": "stream",
     "text": [
      "\u001b[1m1/1\u001b[0m \u001b[32m━━━━━━━━━━━━━━━━━━━━\u001b[0m\u001b[37m\u001b[0m \u001b[1m1s\u001b[0m 598ms/step\n"
     ]
    },
    {
     "name": "stderr",
     "output_type": "stream",
     "text": [
      "127.0.0.1 - - [10/Jul/2025 16:18:14] \"POST /predict HTTP/1.1\" 200 -\n",
      "INFO:werkzeug:127.0.0.1 - - [10/Jul/2025 16:18:14] \"POST /predict HTTP/1.1\" 200 -\n",
      "127.0.0.1 - - [10/Jul/2025 16:18:16] \"GET / HTTP/1.1\" 200 -\n",
      "INFO:werkzeug:127.0.0.1 - - [10/Jul/2025 16:18:16] \"GET / HTTP/1.1\" 200 -\n",
      "WARNING:absl:Compiled the loaded model, but the compiled metrics have yet to be built. `model.compile_metrics` will be empty until you train or evaluate the model.\n"
     ]
    },
    {
     "name": "stdout",
     "output_type": "stream",
     "text": [
      "\u001b[1m1/1\u001b[0m \u001b[32m━━━━━━━━━━━━━━━━━━━━\u001b[0m\u001b[37m\u001b[0m \u001b[1m0s\u001b[0m 365ms/step\n"
     ]
    },
    {
     "name": "stderr",
     "output_type": "stream",
     "text": [
      "127.0.0.1 - - [10/Jul/2025 16:18:23] \"POST /predict HTTP/1.1\" 200 -\n",
      "INFO:werkzeug:127.0.0.1 - - [10/Jul/2025 16:18:23] \"POST /predict HTTP/1.1\" 200 -\n",
      "127.0.0.1 - - [10/Jul/2025 16:18:26] \"GET / HTTP/1.1\" 200 -\n",
      "INFO:werkzeug:127.0.0.1 - - [10/Jul/2025 16:18:26] \"GET / HTTP/1.1\" 200 -\n",
      "WARNING:absl:Compiled the loaded model, but the compiled metrics have yet to be built. `model.compile_metrics` will be empty until you train or evaluate the model.\n"
     ]
    },
    {
     "name": "stdout",
     "output_type": "stream",
     "text": [
      "\u001b[1m1/1\u001b[0m \u001b[32m━━━━━━━━━━━━━━━━━━━━\u001b[0m\u001b[37m\u001b[0m \u001b[1m0s\u001b[0m 363ms/step\n"
     ]
    },
    {
     "name": "stderr",
     "output_type": "stream",
     "text": [
      "127.0.0.1 - - [10/Jul/2025 16:18:35] \"POST /predict HTTP/1.1\" 200 -\n",
      "INFO:werkzeug:127.0.0.1 - - [10/Jul/2025 16:18:35] \"POST /predict HTTP/1.1\" 200 -\n"
     ]
    }
   ],
   "source": [
    "from flask import *\n",
    "import os\n",
    "from werkzeug.utils import secure_filename\n",
    "from keras.models import load_model\n",
    "import numpy as np\n",
    "from PIL import Image\n",
    "\n",
    "app = Flask(__name__)\n",
    "\n",
    "classes = {\n",
    "    0:'Speed limit (20km/h)', 1:'Speed limit (30km/h)', 2:'Speed limit (50km/h)', 3:'Speed limit (60km/h)',\n",
    "    4:'Speed limit (70km/h)', 5:'Speed limit (80km/h)', 6:'End of speed limit (80km/h)', 7:'Speed limit (100km/h)',\n",
    "    8:'Speed limit (120km/h)', 9:'No passing', 10:'No passing veh over 3.5 tons', 11:'Right-of-way at intersection',\n",
    "    12:'Priority road', 13:'Yield', 14:'Stop', 15:'No vehicles', 16:'Vehicle > 3.5 tons prohibited', 17:'No entry',\n",
    "    18:'General caution', 19:'Dangerous curve left', 20:'Dangerous curve right', 21:'Double curve',\n",
    "    22:'Bumpy road', 23:'Slippery road', 24:'Road narrows on the right', 25:'Road work', 26:'Traffic signals',\n",
    "    27:'Pedestrians', 28:'Children crossing', 29:'Bicycles crossing', 30:'Beware of ice/snow',\n",
    "    31:'Wild animals crossing', 32:'End speed + passing limits', 33:'Turn right ahead', 34:'Turn left ahead',\n",
    "    35:'Ahead only', 36:'Go straight or right', 37:'Go straight or left', 38:'Keep right', 39:'Keep left',\n",
    "    40:'Roundabout mandatory', 41:'End of no passing', 42:'End no passing vehicle > 3.5 tons'\n",
    "}\n",
    "\n",
    "def image_processing(img_path):\n",
    "    model = load_model('./trained/TSR.h5')\n",
    "    image = Image.open(img_path).convert('RGB')\n",
    "    image = image.resize((30, 30))\n",
    "    image = np.array(image)\n",
    "    image = np.expand_dims(image, axis=0)\n",
    "    y_pred = np.argmax(model.predict(image), axis=-1)\n",
    "    return y_pred[0]\n",
    "\n",
    "@app.route('/')\n",
    "def index():\n",
    "    return render_template('index.html')\n",
    "\n",
    "@app.route('/predict', methods=['POST'])\n",
    "def upload():\n",
    "    f = request.files['file']\n",
    "    os.makedirs('uploads', exist_ok=True)\n",
    "    file_path = os.path.join('uploads', secure_filename(f.filename))\n",
    "    f.save(file_path)\n",
    "\n",
    "    prediction_index = image_processing(file_path)\n",
    "    result = f\"🚦 This sign means: {classes[prediction_index]} 🚦\"\n",
    "    os.remove(file_path)\n",
    "    return render_template('result.html', prediction=result)\n",
    "\n",
    "if __name__ == '__main__':\n",
    "    app.run(debug=False)\n"
   ]
  },
  {
   "cell_type": "code",
   "execution_count": null,
   "id": "936273cd",
   "metadata": {},
   "outputs": [],
   "source": []
  }
 ],
 "metadata": {
  "kernelspec": {
   "display_name": "traffic",
   "language": "python",
   "name": "python3"
  },
  "language_info": {
   "codemirror_mode": {
    "name": "ipython",
    "version": 3
   },
   "file_extension": ".py",
   "mimetype": "text/x-python",
   "name": "python",
   "nbconvert_exporter": "python",
   "pygments_lexer": "ipython3",
   "version": "3.9.23"
  }
 },
 "nbformat": 4,
 "nbformat_minor": 5
}
