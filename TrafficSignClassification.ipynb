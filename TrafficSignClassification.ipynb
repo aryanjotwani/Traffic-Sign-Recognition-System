{
 "cells": [
  {
   "cell_type": "markdown",
   "id": "db6139f0",
   "metadata": {},
   "source": [
    "# Traffic Sign Recognition System"
   ]
  },
  {
   "cell_type": "markdown",
   "id": "593d2dc1",
   "metadata": {},
   "source": [
    "**Importing Modules**"
   ]
  },
  {
   "cell_type": "code",
   "execution_count": 1,
   "id": "8ad1e27a",
   "metadata": {},
   "outputs": [],
   "source": [
    "import numpy as np \n",
    "import pandas as pd \n",
    "import matplotlib.pyplot as plt\n",
    "import cv2\n",
    "import tensorflow as tf\n",
    "from PIL import Image\n",
    "import os\n",
    "from sklearn.model_selection import train_test_split\n",
    "from tensorflow.keras.utils import to_categorical\n",
    "from keras.models import Sequential, load_model\n",
    "from keras.layers import Conv2D, MaxPool2D, Dense, Flatten, Dropout"
   ]
  },
  {
   "cell_type": "markdown",
   "id": "a04bc326",
   "metadata": {},
   "source": [
    "**Stoare Data, Label in the List**"
   ]
  },
  {
   "cell_type": "code",
   "execution_count": 2,
   "id": "03dc8d5a",
   "metadata": {},
   "outputs": [
    {
     "name": "stdout",
     "output_type": "stream",
     "text": [
      "Current Working Directory is : c:\\Users\\Aryan Jotwani\\OneDrive\\Desktop\\traffic\n"
     ]
    }
   ],
   "source": [
    "data = []\n",
    "labels = []\n",
    "\n",
    "\n",
    "classes = 43\n",
    "\n",
    "cur_path = os.getcwd()\n",
    "print(\"Current Working Directory is : \" + cur_path)"
   ]
  },
  {
   "cell_type": "markdown",
   "id": "408a93c2",
   "metadata": {},
   "source": [
    "**Preprocessing Image**"
   ]
  },
  {
   "cell_type": "code",
   "execution_count": 3,
   "id": "83b58071",
   "metadata": {},
   "outputs": [],
   "source": [
    "for i in range(classes):\n",
    "    path = os.path.join(cur_path,'train',str(i))\n",
    "    images = os.listdir(path)\n",
    "    for a in images:\n",
    "        try:\n",
    "            image = Image.open(path + '\\\\'+ a)\n",
    "            image = image.resize((30,30))\n",
    "            image = np.array(image)\n",
    "            data.append(image)\n",
    "            labels.append(i)\n",
    "        except Exception as e:\n",
    "            print(e)"
   ]
  },
  {
   "cell_type": "markdown",
   "id": "cfdda792",
   "metadata": {},
   "source": [
    "**Converting List into a Numpy Array**"
   ]
  },
  {
   "cell_type": "code",
   "execution_count": 4,
   "id": "e94c0b50",
   "metadata": {},
   "outputs": [],
   "source": [
    "data = np.array(data)\n",
    "labels = np.array(labels)"
   ]
  },
  {
   "cell_type": "markdown",
   "id": "916edea5",
   "metadata": {},
   "source": [
    "**Save Labels and Data for further use**"
   ]
  },
  {
   "cell_type": "code",
   "execution_count": 11,
   "id": "51d27460",
   "metadata": {},
   "outputs": [],
   "source": [
    "np.save('./trained/data',data)\n",
    "np.save('./trained/target',labels)"
   ]
  },
  {
   "cell_type": "markdown",
   "id": "f33a1eb2",
   "metadata": {},
   "source": [
    "**Load Data and Labels**"
   ]
  },
  {
   "cell_type": "code",
   "execution_count": 12,
   "id": "6d2749a0",
   "metadata": {},
   "outputs": [],
   "source": [
    "data = np.load('./trained/data.npy')\n",
    "labels = np.load('./trained/target.npy')"
   ]
  },
  {
   "cell_type": "code",
   "execution_count": 13,
   "id": "7adf9500",
   "metadata": {},
   "outputs": [
    {
     "name": "stdout",
     "output_type": "stream",
     "text": [
      "Shape of Image Data: (39209, 30, 30, 3)\n",
      "Shape of Labels Data: (39209,)\n"
     ]
    }
   ],
   "source": [
    "print('Shape of Image Data: ' + str(data.shape))\n",
    "print('Shape of Labels Data: ' + str(labels.shape))"
   ]
  },
  {
   "cell_type": "markdown",
   "id": "d4b0eb5e",
   "metadata": {},
   "source": [
    "*We can see that the shape of Image data and Labels is same*"
   ]
  },
  {
   "cell_type": "code",
   "execution_count": 14,
   "id": "070b53b2",
   "metadata": {},
   "outputs": [
    {
     "name": "stdout",
     "output_type": "stream",
     "text": [
      "20% Data is used as testing data\n",
      "Train Test Split Complete!!!\n"
     ]
    }
   ],
   "source": [
    "x_train,x_test,y_train,y_test = train_test_split(data, labels, test_size = 0.2, random_state = 0)\n",
    "print('20% Data is used as testing data')\n",
    "print('Train Test Split Complete!!!')"
   ]
  },
  {
   "cell_type": "code",
   "execution_count": 15,
   "id": "24270d86",
   "metadata": {},
   "outputs": [
    {
     "name": "stdout",
     "output_type": "stream",
     "text": [
      "Training sample sape for Image Data: (31367, 30, 30, 3)\n",
      "Testing sample sape for Image Data: (7842, 30, 30, 3)\n",
      "Training sample sape for Labels Data: (31367,)\n",
      "Testing sample sape for Labels Data: (7842,)\n"
     ]
    }
   ],
   "source": [
    "print('Training sample sape for Image Data: ' + str(x_train.shape))\n",
    "print('Testing sample sape for Image Data: ' + str(x_test.shape))\n",
    "print('Training sample sape for Labels Data: ' + str(y_train.shape))\n",
    "print('Testing sample sape for Labels Data: ' + str(y_test.shape))"
   ]
  },
  {
   "cell_type": "markdown",
   "id": "6f4cee23",
   "metadata": {},
   "source": [
    "**Convert Labels to onehot Encoding**"
   ]
  },
  {
   "cell_type": "code",
   "execution_count": 16,
   "id": "50444ca6",
   "metadata": {},
   "outputs": [],
   "source": [
    "y_train = to_categorical(y_train, 43)\n",
    "y_test = to_categorical(y_test, 43)"
   ]
  },
  {
   "cell_type": "markdown",
   "id": "1707280f",
   "metadata": {},
   "source": [
    "**Building Model**"
   ]
  },
  {
   "cell_type": "code",
   "execution_count": null,
   "id": "f3f27800",
   "metadata": {},
   "outputs": [
    {
     "name": "stderr",
     "output_type": "stream",
     "text": [
      "c:\\Users\\Aryan Jotwani\\anaconda3\\envs\\traffic\\lib\\site-packages\\keras\\src\\layers\\convolutional\\base_conv.py:113: UserWarning: Do not pass an `input_shape`/`input_dim` argument to a layer. When using Sequential models, prefer using an `Input(shape)` object as the first layer in the model instead.\n",
      "  super().__init__(activity_regularizer=activity_regularizer, **kwargs)\n"
     ]
    },
    {
     "name": "stdout",
     "output_type": "stream",
     "text": [
      "Model Succesfully Developed !!!!\n"
     ]
    }
   ],
   "source": [
    "model = Sequential()\n",
    "\n",
    "model.add(Conv2D(filters=32, kernel_size=(5,5), activation='relu', input_shape=x_train.shape[1:]))\n",
    "\n",
    "model.add(Conv2D(filters=32, kernel_size=(5,5), activation='relu'))\n",
    "\n",
    "model.add(MaxPool2D(pool_size=(2, 2)))\n",
    "\n",
    "model.add(Dropout(rate=0.25))\n",
    "\n",
    "model.add(Conv2D(filters=64, kernel_size=(3, 3), activation='relu'))\n",
    "\n",
    "model.add(Conv2D(filters=64, kernel_size=(3, 3), activation='relu'))\n",
    "\n",
    "model.add(MaxPool2D(pool_size=(2, 2)))\n",
    "\n",
    "model.add(Dropout(rate=0.25))\n",
    "\n",
    "model.add(Flatten())\n",
    "\n",
    "model.add(Dense(256, activation='relu'))\n",
    "\n",
    "model.add(Dropout(rate=0.5))\n",
    "\n",
    "model.add(Dense(43, activation='softmax'))\n",
    "\n",
    "print('Model Succesfully Developed !!!!')"
   ]
  },
  {
   "cell_type": "markdown",
   "id": "1d5f4cd8",
   "metadata": {},
   "source": [
    "**Compilation of Model**"
   ]
  },
  {
   "cell_type": "code",
   "execution_count": 18,
   "id": "70a2ef4f",
   "metadata": {},
   "outputs": [],
   "source": [
    "model.compile(loss = 'categorical_crossentropy', optimizer='adam', metrics=['accuracy'])"
   ]
  },
  {
   "cell_type": "code",
   "execution_count": 19,
   "id": "766cf01d",
   "metadata": {},
   "outputs": [
    {
     "name": "stdout",
     "output_type": "stream",
     "text": [
      "Epoch 1/20\n",
      "\u001b[1m981/981\u001b[0m \u001b[32m━━━━━━━━━━━━━━━━━━━━\u001b[0m\u001b[37m\u001b[0m \u001b[1m33s\u001b[0m 29ms/step - accuracy: 0.2905 - loss: 3.2930 - val_accuracy: 0.7785 - val_loss: 0.8330\n",
      "Epoch 2/20\n",
      "\u001b[1m981/981\u001b[0m \u001b[32m━━━━━━━━━━━━━━━━━━━━\u001b[0m\u001b[37m\u001b[0m \u001b[1m27s\u001b[0m 28ms/step - accuracy: 0.7163 - loss: 0.9560 - val_accuracy: 0.9229 - val_loss: 0.2862\n",
      "Epoch 3/20\n",
      "\u001b[1m981/981\u001b[0m \u001b[32m━━━━━━━━━━━━━━━━━━━━\u001b[0m\u001b[37m\u001b[0m \u001b[1m31s\u001b[0m 32ms/step - accuracy: 0.8499 - loss: 0.4962 - val_accuracy: 0.9549 - val_loss: 0.1563\n",
      "Epoch 4/20\n",
      "\u001b[1m981/981\u001b[0m \u001b[32m━━━━━━━━━━━━━━━━━━━━\u001b[0m\u001b[37m\u001b[0m \u001b[1m28s\u001b[0m 29ms/step - accuracy: 0.8910 - loss: 0.3708 - val_accuracy: 0.9588 - val_loss: 0.1480\n",
      "Epoch 5/20\n",
      "\u001b[1m981/981\u001b[0m \u001b[32m━━━━━━━━━━━━━━━━━━━━\u001b[0m\u001b[37m\u001b[0m \u001b[1m28s\u001b[0m 29ms/step - accuracy: 0.9117 - loss: 0.3013 - val_accuracy: 0.9691 - val_loss: 0.1034\n",
      "Epoch 6/20\n",
      "\u001b[1m981/981\u001b[0m \u001b[32m━━━━━━━━━━━━━━━━━━━━\u001b[0m\u001b[37m\u001b[0m \u001b[1m29s\u001b[0m 30ms/step - accuracy: 0.9239 - loss: 0.2595 - val_accuracy: 0.9702 - val_loss: 0.0992\n",
      "Epoch 7/20\n",
      "\u001b[1m981/981\u001b[0m \u001b[32m━━━━━━━━━━━━━━━━━━━━\u001b[0m\u001b[37m\u001b[0m \u001b[1m29s\u001b[0m 29ms/step - accuracy: 0.9274 - loss: 0.2578 - val_accuracy: 0.9813 - val_loss: 0.0649\n",
      "Epoch 8/20\n",
      "\u001b[1m981/981\u001b[0m \u001b[32m━━━━━━━━━━━━━━━━━━━━\u001b[0m\u001b[37m\u001b[0m \u001b[1m26s\u001b[0m 27ms/step - accuracy: 0.9364 - loss: 0.2248 - val_accuracy: 0.9675 - val_loss: 0.1215\n",
      "Epoch 9/20\n",
      "\u001b[1m981/981\u001b[0m \u001b[32m━━━━━━━━━━━━━━━━━━━━\u001b[0m\u001b[37m\u001b[0m \u001b[1m30s\u001b[0m 31ms/step - accuracy: 0.9381 - loss: 0.2231 - val_accuracy: 0.9799 - val_loss: 0.0720\n",
      "Epoch 10/20\n",
      "\u001b[1m981/981\u001b[0m \u001b[32m━━━━━━━━━━━━━━━━━━━━\u001b[0m\u001b[37m\u001b[0m \u001b[1m31s\u001b[0m 32ms/step - accuracy: 0.9457 - loss: 0.2046 - val_accuracy: 0.9791 - val_loss: 0.0773\n",
      "Epoch 11/20\n",
      "\u001b[1m981/981\u001b[0m \u001b[32m━━━━━━━━━━━━━━━━━━━━\u001b[0m\u001b[37m\u001b[0m \u001b[1m29s\u001b[0m 30ms/step - accuracy: 0.9242 - loss: 0.2834 - val_accuracy: 0.9834 - val_loss: 0.0619\n",
      "Epoch 12/20\n",
      "\u001b[1m981/981\u001b[0m \u001b[32m━━━━━━━━━━━━━━━━━━━━\u001b[0m\u001b[37m\u001b[0m \u001b[1m36s\u001b[0m 37ms/step - accuracy: 0.9472 - loss: 0.1960 - val_accuracy: 0.9836 - val_loss: 0.0560\n",
      "Epoch 13/20\n",
      "\u001b[1m981/981\u001b[0m \u001b[32m━━━━━━━━━━━━━━━━━━━━\u001b[0m\u001b[37m\u001b[0m \u001b[1m33s\u001b[0m 33ms/step - accuracy: 0.9358 - loss: 0.2405 - val_accuracy: 0.9852 - val_loss: 0.0529\n",
      "Epoch 14/20\n",
      "\u001b[1m981/981\u001b[0m \u001b[32m━━━━━━━━━━━━━━━━━━━━\u001b[0m\u001b[37m\u001b[0m \u001b[1m29s\u001b[0m 29ms/step - accuracy: 0.9491 - loss: 0.1839 - val_accuracy: 0.9871 - val_loss: 0.0509\n",
      "Epoch 15/20\n",
      "\u001b[1m981/981\u001b[0m \u001b[32m━━━━━━━━━━━━━━━━━━━━\u001b[0m\u001b[37m\u001b[0m \u001b[1m29s\u001b[0m 29ms/step - accuracy: 0.9492 - loss: 0.1927 - val_accuracy: 0.9887 - val_loss: 0.0498\n",
      "Epoch 16/20\n",
      "\u001b[1m981/981\u001b[0m \u001b[32m━━━━━━━━━━━━━━━━━━━━\u001b[0m\u001b[37m\u001b[0m \u001b[1m28s\u001b[0m 29ms/step - accuracy: 0.9504 - loss: 0.1972 - val_accuracy: 0.9871 - val_loss: 0.0518\n",
      "Epoch 17/20\n",
      "\u001b[1m981/981\u001b[0m \u001b[32m━━━━━━━━━━━━━━━━━━━━\u001b[0m\u001b[37m\u001b[0m \u001b[1m27s\u001b[0m 27ms/step - accuracy: 0.9414 - loss: 0.2239 - val_accuracy: 0.9902 - val_loss: 0.0422\n",
      "Epoch 18/20\n",
      "\u001b[1m981/981\u001b[0m \u001b[32m━━━━━━━━━━━━━━━━━━━━\u001b[0m\u001b[37m\u001b[0m \u001b[1m27s\u001b[0m 28ms/step - accuracy: 0.9525 - loss: 0.1844 - val_accuracy: 0.9839 - val_loss: 0.0603\n",
      "Epoch 19/20\n",
      "\u001b[1m981/981\u001b[0m \u001b[32m━━━━━━━━━━━━━━━━━━━━\u001b[0m\u001b[37m\u001b[0m \u001b[1m28s\u001b[0m 29ms/step - accuracy: 0.9466 - loss: 0.2196 - val_accuracy: 0.9889 - val_loss: 0.0429\n",
      "Epoch 20/20\n",
      "\u001b[1m981/981\u001b[0m \u001b[32m━━━━━━━━━━━━━━━━━━━━\u001b[0m\u001b[37m\u001b[0m \u001b[1m30s\u001b[0m 31ms/step - accuracy: 0.9481 - loss: 0.2069 - val_accuracy: 0.9695 - val_loss: 0.1183\n"
     ]
    }
   ],
   "source": [
    "epochs = 20\n",
    "history = model.fit(x_train,y_train,batch_size = 32, epochs = epochs, validation_data = (x_test,y_test))"
   ]
  },
  {
   "cell_type": "markdown",
   "id": "432bb95e",
   "metadata": {},
   "source": [
    "**Accuracy**"
   ]
  },
  {
   "cell_type": "code",
   "execution_count": 20,
   "id": "ac2ca30a",
   "metadata": {},
   "outputs": [
    {
     "data": {
      "image/png": "[encoded data removed]",
      "text/plain": [
       "<Figure size 640x480 with 1 Axes>"
      ]
     },
     "metadata": {},
     "output_type": "display_data"
    }
   ],
   "source": [
    "plt.figure(0)\n",
    "plt.plot(history.history['accuracy'], label='training accuracy')\n",
    "plt.plot(history.history['val_accuracy'], label='val accuracy')\n",
    "plt.title('Accuracy')\n",
    "plt.xlabel('epochs')\n",
    "plt.ylabel('accuracy')\n",
    "plt.legend()\n",
    "plt.show()"
   ]
  },
  {
   "cell_type": "markdown",
   "id": "f9567459",
   "metadata": {},
   "source": [
    "Here what we can observe is that for 20 Epochs \n",
    "\n",
    "*Accuracy is 0.9422*\n",
    "\n",
    "*Validation Accuracy is 0.9843*"
   ]
  },
  {
   "cell_type": "markdown",
   "id": "d3ee5846",
   "metadata": {},
   "source": [
    "**Loss**"
   ]
  },
  {
   "cell_type": "code",
   "execution_count": 21,
   "id": "3058c939",
   "metadata": {},
   "outputs": [
    {
     "data": {
      "image/png": "[encoded data removed]",
      "text/plain": [
       "<Figure size 640x480 with 1 Axes>"
      ]
     },
     "metadata": {},
     "output_type": "display_data"
    }
   ],
   "source": [
    "plt.plot(history.history['loss'], label='training loss')\n",
    "plt.plot(history.history['val_loss'], label='val loss')\n",
    "plt.title('Loss')\n",
    "plt.xlabel('epochs')\n",
    "plt.ylabel('loss')\n",
    "plt.legend()\n",
    "plt.show()"
   ]
  },
  {
   "cell_type": "markdown",
   "id": "0e5b295c",
   "metadata": {},
   "source": [
    "*Feature loss is 0.2349*\n",
    "\n",
    "*Validation loss is 0.0572*"
   ]
  },
  {
   "cell_type": "markdown",
   "id": "d817eaee",
   "metadata": {},
   "source": [
    "**Testing**"
   ]
  },
  {
   "cell_type": "code",
   "execution_count": 22,
   "id": "45d385a6",
   "metadata": {},
   "outputs": [],
   "source": [
    "def testing(testcsv):\n",
    "    y_test = pd.read_csv(testcsv)\n",
    "    label = y_test[\"ClassId\"].values\n",
    "    imgs = y_test[\"Path\"].values\n",
    "    data=[]\n",
    "    for img in imgs:\n",
    "        image = Image.open(img)\n",
    "        image = image.resize((30,30))\n",
    "        data.append(np.array(image))\n",
    "    x_test=np.array(data)\n",
    "    return x_test,label"
   ]
  },
  {
   "cell_type": "code",
   "execution_count": 23,
   "id": "a91fa009",
   "metadata": {},
   "outputs": [],
   "source": [
    "x_test, label = testing('Test.csv')"
   ]
  },
  {
   "cell_type": "code",
   "execution_count": 24,
   "id": "442f8a6b",
   "metadata": {},
   "outputs": [
    {
     "name": "stdout",
     "output_type": "stream",
     "text": [
      "\u001b[1m395/395\u001b[0m \u001b[32m━━━━━━━━━━━━━━━━━━━━\u001b[0m\u001b[37m\u001b[0m \u001b[1m5s\u001b[0m 11ms/step\n"
     ]
    },
    {
     "data": {
      "text/plain": [
       "array([16,  1, 38, ..., 42,  7, 10])"
      ]
     },
     "execution_count": 24,
     "metadata": {},
     "output_type": "execute_result"
    }
   ],
   "source": [
    "y_pred = np.argmax(model.predict(x_test), axis=-1)\n",
    "y_pred"
   ]
  },
  {
   "cell_type": "markdown",
   "id": "9207f660",
   "metadata": {},
   "source": [
    "**Accuracy With Test Data**"
   ]
  },
  {
   "cell_type": "code",
   "execution_count": 25,
   "id": "06063376",
   "metadata": {},
   "outputs": [],
   "source": [
    "from sklearn.metrics import accuracy_score"
   ]
  },
  {
   "cell_type": "code",
   "execution_count": 26,
   "id": "dd6a82ba",
   "metadata": {},
   "outputs": [
    {
     "name": "stderr",
     "output_type": "stream",
     "text": [
      "WARNING:absl:You are saving your model as an HDF5 file via `model.save()` or `keras.saving.save_model(model)`. This file format is considered legacy. We recommend using instead the native Keras format, e.g. `model.save('my_model.keras')` or `keras.saving.save_model(model, 'my_model.keras')`. \n"
     ]
    }
   ],
   "source": [
    "model.save(\"./trained/TSR.h5\")"
   ]
  },
  {
   "cell_type": "markdown",
   "id": "f3813604",
   "metadata": {},
   "source": [
    "**Loading the model**"
   ]
  },
  {
   "cell_type": "code",
   "execution_count": 27,
   "id": "46f6eb4a",
   "metadata": {},
   "outputs": [
    {
     "name": "stderr",
     "output_type": "stream",
     "text": [
      "WARNING:absl:Compiled the loaded model, but the compiled metrics have yet to be built. `model.compile_metrics` will be empty until you train or evaluate the model.\n"
     ]
    }
   ],
   "source": [
    "from keras.models import load_model\n",
    "model = load_model('./trained/TSR.h5')"
   ]
  },
  {
   "cell_type": "markdown",
   "id": "458ceb81",
   "metadata": {},
   "source": [
    "*Classes of Traffic Signs*\n",
    "\n",
    "This classes are labeled on the basis of available train data"
   ]
  },
  {
   "cell_type": "code",
   "execution_count": 28,
   "id": "7a391b7a",
   "metadata": {},
   "outputs": [],
   "source": [
    "classes = { 0:'Speed limit (20km/h)',\n",
    "            1:'Speed limit (30km/h)', \n",
    "            2:'Speed limit (50km/h)', \n",
    "            3:'Speed limit (60km/h)', \n",
    "            4:'Speed limit (70km/h)', \n",
    "            5:'Speed limit (80km/h)', \n",
    "            6:'End of speed limit (80km/h)', \n",
    "            7:'Speed limit (100km/h)', \n",
    "            8:'Speed limit (120km/h)', \n",
    "            9:'No passing', \n",
    "            10:'No passing veh over 3.5 tons', \n",
    "            11:'Right-of-way at intersection', \n",
    "            12:'Priority road', \n",
    "            13:'Yield', \n",
    "            14:'Stop', \n",
    "            15:'No vehicles', \n",
    "            16:'Veh > 3.5 tons prohibited', \n",
    "            17:'No entry', \n",
    "            18:'General caution', \n",
    "            19:'Dangerous curve left', \n",
    "            20:'Dangerous curve right', \n",
    "            21:'Double curve', \n",
    "            22:'Bumpy road', \n",
    "            23:'Slippery road', \n",
    "            24:'Road narrows on the right', \n",
    "            25:'Road work', \n",
    "            26:'Traffic signals', \n",
    "            27:'Pedestrians', \n",
    "            28:'Children crossing', \n",
    "            29:'Bicycles crossing', \n",
    "            30:'Beware of ice/snow',\n",
    "            31:'Wild animals crossing', \n",
    "            32:'End speed + passing limits', \n",
    "            33:'Turn right ahead', \n",
    "            34:'Turn left ahead', \n",
    "            35:'Ahead only', \n",
    "            36:'Go straight or right', \n",
    "            37:'Go straight or left', \n",
    "            38:'Keep right', \n",
    "            39:'Keep left', \n",
    "            40:'Roundabout mandatory', \n",
    "            41:'End of no passing', \n",
    "            42:'End no passing veh > 3.5 tons' }"
   ]
  },
  {
   "cell_type": "code",
   "execution_count": 29,
   "id": "ea872269",
   "metadata": {},
   "outputs": [],
   "source": [
    "from PIL import Image\n",
    "import numpy as np\n",
    "import matplotlib.pyplot as plt\n",
    "def test_on_img(img):\n",
    "    data=[]\n",
    "    image = Image.open(img)\n",
    "    image = image.resize((30,30))\n",
    "    data.append(np.array(image))\n",
    "    x_test=np.array(data)\n",
    "    y_pred = np.argmax(model.predict(x_test), axis=-1)\n",
    "    return image,y_pred"
   ]
  },
  {
   "cell_type": "code",
   "execution_count": 32,
   "id": "c2d716c7",
   "metadata": {},
   "outputs": [
    {
     "name": "stdout",
     "output_type": "stream",
     "text": [
      "\u001b[1m1/1\u001b[0m \u001b[32m━━━━━━━━━━━━━━━━━━━━\u001b[0m\u001b[37m\u001b[0m \u001b[1m0s\u001b[0m 42ms/step\n",
      "Predicted traffic sign is:  Speed limit (50km/h)\n"
     ]
    },
    {
     "data": {
      "image/png": "[encoded data removed]",
      "text/plain": [
       "<Figure size 640x480 with 1 Axes>"
      ]
     },
     "metadata": {},
     "output_type": "display_data"
    }
   ],
   "source": [
    "plot,prediction = test_on_img(r'c:\\Users\\Aryan Jotwani\\OneDrive\\Desktop\\traffic\\Test\\00067.png')\n",
    "s = [str(i) for i in prediction] \n",
    "a = int(\"\".join(s)) \n",
    "print(\"Predicted traffic sign is: \", classes[a])\n",
    "plt.imshow(plot)\n",
    "plt.show()"
   ]
  },
  {
   "cell_type": "markdown",
   "id": "be41c6e6",
   "metadata": {},
   "source": [
    "### **Completed !**"
   ]
  }
 ],
 "metadata": {
  "kernelspec": {
   "display_name": "traffic",
   "language": "python",
   "name": "python3"
  },
  "language_info": {
   "codemirror_mode": {
    "name": "ipython",
    "version": 3
   },
   "file_extension": ".py",
   "mimetype": "text/x-python",
   "name": "python",
   "nbconvert_exporter": "python",
   "pygments_lexer": "ipython3",
   "version": "3.9.23"
  }
 },
 "nbformat": 4,
 "nbformat_minor": 5
}
